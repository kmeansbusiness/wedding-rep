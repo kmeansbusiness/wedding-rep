{
 "cells": [
  {
   "cell_type": "code",
   "execution_count": 1,
   "metadata": {},
   "outputs": [],
   "source": [
    "import pandas as pd\n",
    "from scraper import SilverScraper\n",
    "from collections import defaultdict\n",
    "\n",
    "import matplotlib.pyplot as plt\n",
    "plt.style.use('fivethirtyeight')\n",
    "\n",
    "import seaborn as sns\n",
    "%matplotlib inline"
   ]
  },
  {
   "cell_type": "code",
   "execution_count": 2,
   "metadata": {},
   "outputs": [
    {
     "name": "stdout",
     "output_type": "stream",
     "text": [
      "found 47 worksheets\n",
      "1 / 47: WorksheetGenerator.php?EventReferenceNumber=2016-09-10-Zabel-Katelyn-421K&MusicianID=ChrisMcCarthy&SiD=61915660 \n",
      "2 / 47: WorksheetGenerator.php?EventReferenceNumber=2017-09-17-Butler-Dana-4QWB&MusicianID=ChrisMcCarthy&SiD=61915660 \n",
      "3 / 47: WorksheetGenerator.php?EventReferenceNumber=2016-10-01-Summerfield-Jason-4R36&MusicianID=ChrisMcCarthy&SiD=61915660 \n",
      "4 / 47: WorksheetGenerator.php?EventReferenceNumber=2016-10-15-Helliwell-Lauren-3XWV&MusicianID=ChrisMcCarthy&SiD=61915660 \n",
      "5 / 47: WorksheetGenerator.php?EventReferenceNumber=2016-11-08-Showcase-4q32&MusicianID=ChrisMcCarthy&SiD=61915660 \n",
      "6 / 47: WorksheetGenerator.php?EventReferenceNumber=2017-06-03-Aleksich-Matthew-4P76&MusicianID=ChrisMcCarthy&SiD=61915660 \n",
      "7 / 47: WorksheetGenerator.php?EventReferenceNumber=2017-07-15-Bogen-Julie-4FNC&MusicianID=ChrisMcCarthy&SiD=61915660 \n",
      "8 / 47: WorksheetGenerator.php?EventReferenceNumber=2017-09-02-Loughlin-Juliette-53NR&MusicianID=ChrisMcCarthy&SiD=61915660 \n",
      "9 / 47: WorksheetGenerator.php?EventReferenceNumber=2017-09-16-Adamski-Teddie-4UH8&MusicianID=ChrisMcCarthy&SiD=61915660 \n",
      "10 / 47: WorksheetGenerator.php?EventReferenceNumber=2017-09-23-Sadaphal-Stephanie-5227&MusicianID=ChrisMcCarthy&SiD=61915660 \n",
      "11 / 47: WorksheetGenerator.php?EventReferenceNumber=2017-10-14-Donohue-Kathleen-5HW6&MusicianID=ChrisMcCarthy&SiD=61915660 \n",
      "12 / 47: WorksheetGenerator.php?EventReferenceNumber=2018-06-16-Bradley-Kjersten-60MD&MusicianID=ChrisMcCarthy&SiD=61915660 \n",
      "13 / 47: WorksheetGenerator.php?EventReferenceNumber=2018-09-22-Hoyt-Lisbeth-6D39&MusicianID=ChrisMcCarthy&SiD=61915660 \n",
      "14 / 47: WorksheetGenerator.php?EventReferenceNumber=2018-09-29-Ackerman-Allison-6V7H&MusicianID=ChrisMcCarthy&SiD=61915660 \n",
      "15 / 47: WorksheetGenerator.php?EventReferenceNumber=2018-10-07-Marom-Noa-7448&MusicianID=ChrisMcCarthy&SiD=61915660 \n",
      "16 / 47: WorksheetGenerator.php?EventReferenceNumber=2018-10-13-Delaney-Caitlin-6HT2&MusicianID=ChrisMcCarthy&SiD=61915660 \n",
      "17 / 47: WorksheetGenerator.php?EventReferenceNumber=2019-04-13-Azzariti-Tanja-771E&MusicianID=ChrisMcCarthy&SiD=61915660 \n",
      "18 / 47: WorksheetGenerator.php?EventReferenceNumber=2019-05-03-Jones-Tatiana-7RNV&MusicianID=ChrisMcCarthy&SiD=61915660 \n",
      "19 / 47: WorksheetGenerator.php?EventReferenceNumber=2019-05-28-Showcase-81ec&MusicianID=ChrisMcCarthy&SiD=61915660 \n",
      "20 / 47: WorksheetGenerator.php?EventReferenceNumber=2019-06-01-Sweeney-Sarah-6UH3&MusicianID=ChrisMcCarthy&SiD=61915660 \n",
      "21 / 47: WorksheetGenerator.php?EventReferenceNumber=2019-06-02-Oh-Victoria-7QPM&MusicianID=ChrisMcCarthy&SiD=61915660 \n",
      "22 / 47: WorksheetGenerator.php?EventReferenceNumber=2019-06-08-Minehardt-Jennifer-77FV&MusicianID=ChrisMcCarthy&SiD=61915660 \n",
      "23 / 47: WorksheetGenerator.php?EventReferenceNumber=2019-07-13-Simek-Ciara-7CMW&MusicianID=ChrisMcCarthy&SiD=61915660 \n",
      "24 / 47: WorksheetGenerator.php?EventReferenceNumber=2019-08-10-Robinson-Hywel-7H49&MusicianID=ChrisMcCarthy&SiD=61915660 \n",
      "25 / 47: WorksheetGenerator.php?EventReferenceNumber=2019-08-24-Thomas-Bob-85TT&MusicianID=ChrisMcCarthy&SiD=61915660 \n",
      "26 / 47: WorksheetGenerator.php?EventReferenceNumber=2019-08-31-Higley-Christopher-88VP&MusicianID=ChrisMcCarthy&SiD=61915660 \n",
      "27 / 47: WorksheetGenerator.php?EventReferenceNumber=2019-09-03-Showcase-8kmr&MusicianID=ChrisMcCarthy&SiD=61915660 \n",
      "28 / 47: WorksheetGenerator.php?EventReferenceNumber=2019-09-07-Osteen-Katherine-7J44&MusicianID=ChrisMcCarthy&SiD=61915660 \n",
      "29 / 47: WorksheetGenerator.php?EventReferenceNumber=2019-09-13-Florey-Marissa-830K&MusicianID=ChrisMcCarthy&SiD=61915660 \n",
      "30 / 47: WorksheetGenerator.php?EventReferenceNumber=2019-09-17-Showcase-8kms&MusicianID=ChrisMcCarthy&SiD=61915660 \n",
      "31 / 47: WorksheetGenerator.php?EventReferenceNumber=2019-09-21-Chen-John-834T&MusicianID=ChrisMcCarthy&SiD=61915660 \n",
      "32 / 47: WorksheetGenerator.php?EventReferenceNumber=2019-10-04-Favia-Vincent-89K3&MusicianID=ChrisMcCarthy&SiD=61915660 \n",
      "33 / 47: WorksheetGenerator.php?EventReferenceNumber=2019-10-05-Weddingplanner-KatherineFosella-8RKP&MusicianID=ChrisMcCarthy&SiD=61915660 \n",
      "34 / 47: WorksheetGenerator.php?EventReferenceNumber=2019-10-12-Boccaccio-Sarah-832U&MusicianID=ChrisMcCarthy&SiD=61915660 \n",
      "35 / 47: WorksheetGenerator.php?EventReferenceNumber=0000-00-00-Palmisano-Joe-82PN&MusicianID=ChrisMcCarthy&SiD=61915660 \n",
      "36 / 47: WorksheetGenerator.php?EventReferenceNumber=2019-10-26-Perrigino-Monica-7YDW&MusicianID=ChrisMcCarthy&SiD=61915660 \n",
      "37 / 47: WorksheetGenerator.php?EventReferenceNumber=2019-11-02-Healey-Tara-7CMJ&MusicianID=ChrisMcCarthy&SiD=61915660 \n",
      "38 / 47: WorksheetGenerator.php?EventReferenceNumber=2019-11-03-Petrozziello-Marisa-8PUD&MusicianID=ChrisMcCarthy&SiD=61915660 \n",
      "39 / 47: WorksheetGenerator.php?EventReferenceNumber=2019-11-16-Weddingcoordinator-EmilyBaldwin-8CTE&MusicianID=ChrisMcCarthy&SiD=61915660 \n",
      "40 / 47: WorksheetGenerator.php?EventReferenceNumber=2019-11-17-Bermudez-Matt-7HT6&MusicianID=ChrisMcCarthy&SiD=61915660 \n",
      "41 / 47: WorksheetGenerator.php?EventReferenceNumber=2019-11-30-Larson-Taylor-85WQ&MusicianID=ChrisMcCarthy&SiD=61915660 \n",
      "42 / 47: WorksheetGenerator.php?EventReferenceNumber=2019-12-07-Glozzy-Lauren-8TWE&MusicianID=ChrisMcCarthy&SiD=61915660 \n",
      "43 / 47: WorksheetGenerator.php?EventReferenceNumber=2019-12-10-Showcase-92fw&MusicianID=ChrisMcCarthy&SiD=61915660 \n",
      "44 / 47: WorksheetGenerator.php?EventReferenceNumber=2020-05-30-Tsokalas-Cynthia-9EQF&MusicianID=ChrisMcCarthy&SiD=61915660 \n",
      "45 / 47: WorksheetGenerator.php?EventReferenceNumber=2020-06-05-Pope-Carolyn-9KY7&MusicianID=ChrisMcCarthy&SiD=61915660 \n",
      "46 / 47: WorksheetGenerator.php?EventReferenceNumber=2020-06-27-Kemen-Ann-8X93&MusicianID=ChrisMcCarthy&SiD=61915660 \n",
      "47 / 47: WorksheetGenerator.php?EventReferenceNumber=2020-10-03-Loprete-Ali-9BD0&MusicianID=ChrisMcCarthy&SiD=61915660 \n"
     ]
    }
   ],
   "source": [
    "s = SilverScraper()\n",
    "s.populate()"
   ]
  },
  {
   "cell_type": "code",
   "execution_count": 3,
   "metadata": {},
   "outputs": [
    {
     "name": "stdout",
     "output_type": "stream",
     "text": [
      "Scraped 58 setlists\n"
     ]
    }
   ],
   "source": [
    "print(f'Scraped {len(s.setlists)} setlists')"
   ]
  },
  {
   "cell_type": "code",
   "execution_count": 4,
   "metadata": {},
   "outputs": [
    {
     "data": {
      "text/plain": [
       "True"
      ]
     },
     "execution_count": 4,
     "metadata": {},
     "output_type": "execute_result"
    }
   ],
   "source": [
    "'SetListGenerator.php?LeadSingerID=DarrenFewins&MusicianID=ChrisMcCarthy&SiD=61915660' in s.setlists"
   ]
  },
  {
   "cell_type": "code",
   "execution_count": 5,
   "metadata": {},
   "outputs": [
    {
     "data": {
      "text/plain": [
       "70"
      ]
     },
     "execution_count": 5,
     "metadata": {},
     "output_type": "execute_result"
    }
   ],
   "source": [
    "len(s.setlists['SetListGenerator.php?LeadSingerID=DarrenFewins&MusicianID=ChrisMcCarthy&SiD=61915660'])"
   ]
  },
  {
   "cell_type": "code",
   "execution_count": 6,
   "metadata": {},
   "outputs": [],
   "source": [
    "song_dict = defaultdict(int)"
   ]
  },
  {
   "cell_type": "code",
   "execution_count": 7,
   "metadata": {},
   "outputs": [],
   "source": [
    "for setlist, song_list in s.setlists.items():\n",
    "    for song in song_list:\n",
    "        song_dict[song] += 1"
   ]
  },
  {
   "cell_type": "code",
   "execution_count": 8,
   "metadata": {},
   "outputs": [
    {
     "data": {
      "text/html": [
       "<div>\n",
       "<style scoped>\n",
       "    .dataframe tbody tr th:only-of-type {\n",
       "        vertical-align: middle;\n",
       "    }\n",
       "\n",
       "    .dataframe tbody tr th {\n",
       "        vertical-align: top;\n",
       "    }\n",
       "\n",
       "    .dataframe thead th {\n",
       "        text-align: right;\n",
       "    }\n",
       "</style>\n",
       "<table border=\"1\" class=\"dataframe\">\n",
       "  <thead>\n",
       "    <tr style=\"text-align: right;\">\n",
       "      <th></th>\n",
       "      <th>song</th>\n",
       "      <th>counts</th>\n",
       "    </tr>\n",
       "  </thead>\n",
       "  <tbody>\n",
       "    <tr>\n",
       "      <th>0</th>\n",
       "      <td>cant stop the feeling</td>\n",
       "      <td>3</td>\n",
       "    </tr>\n",
       "    <tr>\n",
       "      <th>1</th>\n",
       "      <td>justin bieber</td>\n",
       "      <td>1</td>\n",
       "    </tr>\n",
       "    <tr>\n",
       "      <th>2</th>\n",
       "      <td>rock with you</td>\n",
       "      <td>15</td>\n",
       "    </tr>\n",
       "    <tr>\n",
       "      <th>3</th>\n",
       "      <td>never too much</td>\n",
       "      <td>1</td>\n",
       "    </tr>\n",
       "    <tr>\n",
       "      <th>4</th>\n",
       "      <td>love never felt so good</td>\n",
       "      <td>4</td>\n",
       "    </tr>\n",
       "  </tbody>\n",
       "</table>\n",
       "</div>"
      ],
      "text/plain": [
       "                      song  counts\n",
       "0    cant stop the feeling       3\n",
       "1            justin bieber       1\n",
       "2            rock with you      15\n",
       "3           never too much       1\n",
       "4  love never felt so good       4"
      ]
     },
     "execution_count": 8,
     "metadata": {},
     "output_type": "execute_result"
    }
   ],
   "source": [
    "df = pd.Series(song_dict).to_frame().reset_index()\n",
    "df.columns = ['song', 'counts']\n",
    "df.head()"
   ]
  },
  {
   "cell_type": "code",
   "execution_count": 9,
   "metadata": {},
   "outputs": [
    {
     "data": {
      "text/html": [
       "<div>\n",
       "<style scoped>\n",
       "    .dataframe tbody tr th:only-of-type {\n",
       "        vertical-align: middle;\n",
       "    }\n",
       "\n",
       "    .dataframe tbody tr th {\n",
       "        vertical-align: top;\n",
       "    }\n",
       "\n",
       "    .dataframe thead th {\n",
       "        text-align: right;\n",
       "    }\n",
       "</style>\n",
       "<table border=\"1\" class=\"dataframe\">\n",
       "  <thead>\n",
       "    <tr style=\"text-align: right;\">\n",
       "      <th></th>\n",
       "      <th>song</th>\n",
       "      <th>counts</th>\n",
       "    </tr>\n",
       "  </thead>\n",
       "  <tbody>\n",
       "    <tr>\n",
       "      <th>214</th>\n",
       "      <td>i want you back</td>\n",
       "      <td>27</td>\n",
       "    </tr>\n",
       "    <tr>\n",
       "      <th>271</th>\n",
       "      <td>at last</td>\n",
       "      <td>24</td>\n",
       "    </tr>\n",
       "    <tr>\n",
       "      <th>225</th>\n",
       "      <td>valerie</td>\n",
       "      <td>23</td>\n",
       "    </tr>\n",
       "    <tr>\n",
       "      <th>224</th>\n",
       "      <td>superstition</td>\n",
       "      <td>23</td>\n",
       "    </tr>\n",
       "    <tr>\n",
       "      <th>28</th>\n",
       "      <td>signed sealed delivered</td>\n",
       "      <td>23</td>\n",
       "    </tr>\n",
       "  </tbody>\n",
       "</table>\n",
       "</div>"
      ],
      "text/plain": [
       "                        song  counts\n",
       "214          i want you back      27\n",
       "271                  at last      24\n",
       "225                  valerie      23\n",
       "224             superstition      23\n",
       "28   signed sealed delivered      23"
      ]
     },
     "execution_count": 9,
     "metadata": {},
     "output_type": "execute_result"
    }
   ],
   "source": [
    "top_50 = df.sort_values('counts', ascending=False).head(50)\n",
    "top_50.head()"
   ]
  },
  {
   "cell_type": "code",
   "execution_count": 10,
   "metadata": {},
   "outputs": [
    {
     "data": {
      "image/png": "[encoded data removed]",
      "text/plain": [
       "<Figure size 432x720 with 1 Axes>"
      ]
     },
     "metadata": {
      "needs_background": "light"
     },
     "output_type": "display_data"
    }
   ],
   "source": [
    "fig, ax = plt.subplots()\n",
    "fig.set_figheight(10)\n",
    "sns.barplot(data=top_50, x='counts', y='song', ax=ax, color='gray')\n",
    "plt.title('Top 50 Wedding Songs')\n",
    "plt.ylabel('')\n",
    "plt.xlabel('setlist occurrences')\n",
    "plt.savefig('top_chart.png',  bbox_inches='tight')"
   ]
  },
  {
   "cell_type": "code",
   "execution_count": 11,
   "metadata": {},
   "outputs": [],
   "source": [
    "top_50['song'].to_csv('top_50_songs.csv', index=False, header=False)"
   ]
  },
  {
   "cell_type": "code",
   "execution_count": null,
   "metadata": {},
   "outputs": [],
   "source": []
  }
 ],
 "metadata": {
  "kernelspec": {
   "display_name": "Python 3",
   "language": "python",
   "name": "python3"
  },
  "language_info": {
   "codemirror_mode": {
    "name": "ipython",
    "version": 3
   },
   "file_extension": ".py",
   "mimetype": "text/x-python",
   "name": "python",
   "nbconvert_exporter": "python",
   "pygments_lexer": "ipython3",
   "version": "3.7.0"
  }
 },
 "nbformat": 4,
 "nbformat_minor": 4
}
